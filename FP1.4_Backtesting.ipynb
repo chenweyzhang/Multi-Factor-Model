{
 "cells": [
  {
   "cell_type": "markdown",
   "metadata": {},
   "source": [
    "# Backtesting"
   ]
  },
  {
   "cell_type": "code",
   "execution_count": 39,
   "metadata": {},
   "outputs": [],
   "source": [
    "%matplotlib inline\n",
    "\n",
    "import seaborn as sns\n",
    "import matplotlib\n",
    "import matplotlib.pyplot as plt\n",
    "import numpy as np\n",
    "import pandas as pd\n",
    "import tushare as ts\n",
    "from WindPy import *\n",
    "import datetime\n",
    "import time\n",
    "import math \n",
    "from statsmodels import regression, stats\n",
    "import statsmodels.api as sm\n",
    "from pandas.plotting import register_matplotlib_converters\n",
    "\n",
    "register_matplotlib_converters()\n",
    "\n",
    "%run final_project.py\n",
    "\n",
    "matplotlib.rcParams[\"figure.figsize\"] = (16, 9)"
   ]
  },
  {
   "cell_type": "markdown",
   "metadata": {},
   "source": [
    "### 1. Get CSI 500 Index price information"
   ]
  },
  {
   "cell_type": "code",
   "execution_count": 2,
   "metadata": {},
   "outputs": [],
   "source": [
    "tsapi = \"4f025f8dd1a96fd251f95c75d65a1023db3a27f8c9f3bc964ebd51d9\"\n",
    "pro = ts.pro_api(tsapi)"
   ]
  },
  {
   "cell_type": "code",
   "execution_count": 3,
   "metadata": {},
   "outputs": [],
   "source": [
    "df = pro.index_daily(ts_code='000905.SH', start_date='20180101', end_date='20190426')"
   ]
  },
  {
   "cell_type": "code",
   "execution_count": 4,
   "metadata": {},
   "outputs": [],
   "source": [
    "converted_timestamp = pd.to_datetime(df[\"trade_date\"], format=\"%Y-%m-%d\")\n",
    "df.index = converted_timestamp\n",
    "df = df.drop(columns=[\"trade_date\"])\n",
    "df = df.sort_index()"
   ]
  },
  {
   "cell_type": "code",
   "execution_count": 5,
   "metadata": {},
   "outputs": [
    {
     "data": {
      "text/html": [
       "<div>\n",
       "<style scoped>\n",
       "    .dataframe tbody tr th:only-of-type {\n",
       "        vertical-align: middle;\n",
       "    }\n",
       "\n",
       "    .dataframe tbody tr th {\n",
       "        vertical-align: top;\n",
       "    }\n",
       "\n",
       "    .dataframe thead th {\n",
       "        text-align: right;\n",
       "    }\n",
       "</style>\n",
       "<table border=\"1\" class=\"dataframe\">\n",
       "  <thead>\n",
       "    <tr style=\"text-align: right;\">\n",
       "      <th></th>\n",
       "      <th>ts_code</th>\n",
       "      <th>close</th>\n",
       "      <th>open</th>\n",
       "      <th>high</th>\n",
       "      <th>low</th>\n",
       "      <th>pre_close</th>\n",
       "      <th>change</th>\n",
       "      <th>pct_chg</th>\n",
       "      <th>vol</th>\n",
       "      <th>amount</th>\n",
       "    </tr>\n",
       "    <tr>\n",
       "      <th>trade_date</th>\n",
       "      <th></th>\n",
       "      <th></th>\n",
       "      <th></th>\n",
       "      <th></th>\n",
       "      <th></th>\n",
       "      <th></th>\n",
       "      <th></th>\n",
       "      <th></th>\n",
       "      <th></th>\n",
       "      <th></th>\n",
       "    </tr>\n",
       "  </thead>\n",
       "  <tbody>\n",
       "    <tr>\n",
       "      <th>2019-04-22</th>\n",
       "      <td>000905.SH</td>\n",
       "      <td>5723.0417</td>\n",
       "      <td>5821.0229</td>\n",
       "      <td>5824.5207</td>\n",
       "      <td>5704.9769</td>\n",
       "      <td>5810.1798</td>\n",
       "      <td>-87.1381</td>\n",
       "      <td>-1.4997</td>\n",
       "      <td>158161026.0</td>\n",
       "      <td>143410616.8</td>\n",
       "    </tr>\n",
       "    <tr>\n",
       "      <th>2019-04-23</th>\n",
       "      <td>000905.SH</td>\n",
       "      <td>5628.0624</td>\n",
       "      <td>5710.7334</td>\n",
       "      <td>5710.7334</td>\n",
       "      <td>5610.7353</td>\n",
       "      <td>5723.0417</td>\n",
       "      <td>-94.9793</td>\n",
       "      <td>-1.6596</td>\n",
       "      <td>149871461.0</td>\n",
       "      <td>133768248.9</td>\n",
       "    </tr>\n",
       "    <tr>\n",
       "      <th>2019-04-24</th>\n",
       "      <td>000905.SH</td>\n",
       "      <td>5679.7256</td>\n",
       "      <td>5636.4016</td>\n",
       "      <td>5682.4788</td>\n",
       "      <td>5568.4080</td>\n",
       "      <td>5628.0624</td>\n",
       "      <td>51.6632</td>\n",
       "      <td>0.9180</td>\n",
       "      <td>134784412.0</td>\n",
       "      <td>121970724.6</td>\n",
       "    </tr>\n",
       "    <tr>\n",
       "      <th>2019-04-25</th>\n",
       "      <td>000905.SH</td>\n",
       "      <td>5458.4194</td>\n",
       "      <td>5652.0056</td>\n",
       "      <td>5662.7898</td>\n",
       "      <td>5457.8254</td>\n",
       "      <td>5679.7256</td>\n",
       "      <td>-221.3062</td>\n",
       "      <td>-3.8964</td>\n",
       "      <td>151401718.0</td>\n",
       "      <td>132098714.9</td>\n",
       "    </tr>\n",
       "    <tr>\n",
       "      <th>2019-04-26</th>\n",
       "      <td>000905.SH</td>\n",
       "      <td>5408.0306</td>\n",
       "      <td>5427.6228</td>\n",
       "      <td>5496.0353</td>\n",
       "      <td>5407.1942</td>\n",
       "      <td>5458.4194</td>\n",
       "      <td>-50.3888</td>\n",
       "      <td>-0.9231</td>\n",
       "      <td>124279880.0</td>\n",
       "      <td>108970816.5</td>\n",
       "    </tr>\n",
       "  </tbody>\n",
       "</table>\n",
       "</div>"
      ],
      "text/plain": [
       "              ts_code      close       open       high        low  pre_close  \\\n",
       "trade_date                                                                     \n",
       "2019-04-22  000905.SH  5723.0417  5821.0229  5824.5207  5704.9769  5810.1798   \n",
       "2019-04-23  000905.SH  5628.0624  5710.7334  5710.7334  5610.7353  5723.0417   \n",
       "2019-04-24  000905.SH  5679.7256  5636.4016  5682.4788  5568.4080  5628.0624   \n",
       "2019-04-25  000905.SH  5458.4194  5652.0056  5662.7898  5457.8254  5679.7256   \n",
       "2019-04-26  000905.SH  5408.0306  5427.6228  5496.0353  5407.1942  5458.4194   \n",
       "\n",
       "              change  pct_chg          vol       amount  \n",
       "trade_date                                               \n",
       "2019-04-22  -87.1381  -1.4997  158161026.0  143410616.8  \n",
       "2019-04-23  -94.9793  -1.6596  149871461.0  133768248.9  \n",
       "2019-04-24   51.6632   0.9180  134784412.0  121970724.6  \n",
       "2019-04-25 -221.3062  -3.8964  151401718.0  132098714.9  \n",
       "2019-04-26  -50.3888  -0.9231  124279880.0  108970816.5  "
      ]
     },
     "execution_count": 5,
     "metadata": {},
     "output_type": "execute_result"
    }
   ],
   "source": [
    "df.tail()"
   ]
  },
  {
   "cell_type": "markdown",
   "metadata": {},
   "source": [
    "### 2. Compare the return of the index and our enhanced indexing strategy"
   ]
  },
  {
   "cell_type": "markdown",
   "metadata": {},
   "source": [
    "2.1 Cumulative monthly return"
   ]
  },
  {
   "cell_type": "code",
   "execution_count": 21,
   "metadata": {},
   "outputs": [],
   "source": [
    "test_return = pd.read_pickle(\"test_return.gz\")"
   ]
  },
  {
   "cell_type": "code",
   "execution_count": 7,
   "metadata": {},
   "outputs": [],
   "source": [
    "test_return[\"NEXT_RETURN\"] = test_return[\"NEXT_RETURN\"].cumsum() # strategy's cumulative return"
   ]
  },
  {
   "cell_type": "code",
   "execution_count": 8,
   "metadata": {},
   "outputs": [
    {
     "data": {
      "text/html": [
       "<div>\n",
       "<style scoped>\n",
       "    .dataframe tbody tr th:only-of-type {\n",
       "        vertical-align: middle;\n",
       "    }\n",
       "\n",
       "    .dataframe tbody tr th {\n",
       "        vertical-align: top;\n",
       "    }\n",
       "\n",
       "    .dataframe thead th {\n",
       "        text-align: right;\n",
       "    }\n",
       "</style>\n",
       "<table border=\"1\" class=\"dataframe\">\n",
       "  <thead>\n",
       "    <tr style=\"text-align: right;\">\n",
       "      <th></th>\n",
       "      <th>NEXT_RETURN</th>\n",
       "    </tr>\n",
       "  </thead>\n",
       "  <tbody>\n",
       "    <tr>\n",
       "      <th>2018-01-31</th>\n",
       "      <td>-4.74539</td>\n",
       "    </tr>\n",
       "    <tr>\n",
       "      <th>2018-02-28</th>\n",
       "      <td>28.5398</td>\n",
       "    </tr>\n",
       "    <tr>\n",
       "      <th>2018-03-30</th>\n",
       "      <td>24.1962</td>\n",
       "    </tr>\n",
       "    <tr>\n",
       "      <th>2018-04-27</th>\n",
       "      <td>26.1281</td>\n",
       "    </tr>\n",
       "    <tr>\n",
       "      <th>2018-05-31</th>\n",
       "      <td>13.8019</td>\n",
       "    </tr>\n",
       "    <tr>\n",
       "      <th>2018-06-29</th>\n",
       "      <td>16.6309</td>\n",
       "    </tr>\n",
       "    <tr>\n",
       "      <th>2018-07-31</th>\n",
       "      <td>8.91487</td>\n",
       "    </tr>\n",
       "    <tr>\n",
       "      <th>2018-08-31</th>\n",
       "      <td>8.03425</td>\n",
       "    </tr>\n",
       "    <tr>\n",
       "      <th>2018-09-28</th>\n",
       "      <td>-3.5057</td>\n",
       "    </tr>\n",
       "    <tr>\n",
       "      <th>2018-10-31</th>\n",
       "      <td>6.82129</td>\n",
       "    </tr>\n",
       "    <tr>\n",
       "      <th>2018-11-30</th>\n",
       "      <td>4.23708</td>\n",
       "    </tr>\n",
       "    <tr>\n",
       "      <th>2018-12-28</th>\n",
       "      <td>4.83581</td>\n",
       "    </tr>\n",
       "    <tr>\n",
       "      <th>2019-01-31</th>\n",
       "      <td>31.6054</td>\n",
       "    </tr>\n",
       "    <tr>\n",
       "      <th>2019-02-28</th>\n",
       "      <td>40.82</td>\n",
       "    </tr>\n",
       "    <tr>\n",
       "      <th>2019-03-29</th>\n",
       "      <td>42.3805</td>\n",
       "    </tr>\n",
       "  </tbody>\n",
       "</table>\n",
       "</div>"
      ],
      "text/plain": [
       "           NEXT_RETURN\n",
       "2018-01-31    -4.74539\n",
       "2018-02-28     28.5398\n",
       "2018-03-30     24.1962\n",
       "2018-04-27     26.1281\n",
       "2018-05-31     13.8019\n",
       "2018-06-29     16.6309\n",
       "2018-07-31     8.91487\n",
       "2018-08-31     8.03425\n",
       "2018-09-28     -3.5057\n",
       "2018-10-31     6.82129\n",
       "2018-11-30     4.23708\n",
       "2018-12-28     4.83581\n",
       "2019-01-31     31.6054\n",
       "2019-02-28       40.82\n",
       "2019-03-29     42.3805"
      ]
     },
     "execution_count": 8,
     "metadata": {},
     "output_type": "execute_result"
    }
   ],
   "source": [
    "test_return"
   ]
  },
  {
   "cell_type": "code",
   "execution_count": 23,
   "metadata": {},
   "outputs": [],
   "source": [
    "# calculate next month's returns of the index\n",
    "dates = test_return.index\n",
    "df_dates = df.loc[dates]\n",
    "df_dates[\"NEXT_RETURN\"] = (df_dates[\"close\"] / df_dates[\"close\"].shift(1) - 1) * 100\n",
    "df_dates[\"NEXT_RETURN\"] = df_dates[\"NEXT_RETURN\"].shift(-1)\n",
    "# add next month's return for the last month here\n",
    "df_dates.iloc[-1, -1] = (df_dates.iloc[-1, 1] / df.iloc[-1, 1] - 1) * 100"
   ]
  },
  {
   "cell_type": "code",
   "execution_count": 10,
   "metadata": {},
   "outputs": [],
   "source": [
    "df_dates[\"NEXT_RETURN\"] = df_dates[\"NEXT_RETURN\"].cumsum()  # index's cumulative return"
   ]
  },
  {
   "cell_type": "code",
   "execution_count": 11,
   "metadata": {},
   "outputs": [
    {
     "data": {
      "text/plain": [
       "2018-01-31    -2.676606\n",
       "2018-02-28    -1.164885\n",
       "2018-03-30    -5.314770\n",
       "2018-04-27    -7.132025\n",
       "2018-05-31   -16.458859\n",
       "2018-06-29   -17.015567\n",
       "2018-07-31   -24.221451\n",
       "2018-08-31   -24.514192\n",
       "2018-09-28   -35.516208\n",
       "2018-10-31   -33.079741\n",
       "2018-11-30   -37.846280\n",
       "2018-12-28   -37.643845\n",
       "2019-01-31   -17.320064\n",
       "2019-02-28    -6.925347\n",
       "2019-03-29    -4.343529\n",
       "Name: NEXT_RETURN, dtype: float64"
      ]
     },
     "execution_count": 11,
     "metadata": {},
     "output_type": "execute_result"
    }
   ],
   "source": [
    "df_dates[\"NEXT_RETURN\"]"
   ]
  },
  {
   "cell_type": "code",
   "execution_count": 12,
   "metadata": {},
   "outputs": [],
   "source": [
    "diff = test_return[\"NEXT_RETURN\"] - df_dates[\"NEXT_RETURN\"] # difference between strategy's return and index's return"
   ]
  },
  {
   "cell_type": "code",
   "execution_count": 13,
   "metadata": {},
   "outputs": [
    {
     "data": {
      "text/plain": [
       "2018-01-31   -2.06879\n",
       "2018-02-28    29.7047\n",
       "2018-03-30    29.5109\n",
       "2018-04-27    33.2601\n",
       "2018-05-31    30.2608\n",
       "2018-06-29    33.6464\n",
       "2018-07-31    33.1363\n",
       "2018-08-31    32.5484\n",
       "2018-09-28    32.0105\n",
       "2018-10-31     39.901\n",
       "2018-11-30    42.0834\n",
       "2018-12-28    42.4797\n",
       "2019-01-31    48.9255\n",
       "2019-02-28    47.7454\n",
       "2019-03-29    46.7241\n",
       "Name: NEXT_RETURN, dtype: object"
      ]
     },
     "execution_count": 13,
     "metadata": {},
     "output_type": "execute_result"
    }
   ],
   "source": [
    "diff"
   ]
  },
  {
   "cell_type": "code",
   "execution_count": 14,
   "metadata": {},
   "outputs": [
    {
     "data": {
      "image/png": "[encoded data removed]",
      "text/plain": [
       "<Figure size 1152x648 with 1 Axes>"
      ]
     },
     "metadata": {
      "needs_background": "light"
     },
     "output_type": "display_data"
    }
   ],
   "source": [
    "fig, ax = plt.subplots(figsize=(16, 9))\n",
    "plt.plot(test_return[\"NEXT_RETURN\"], \"r-\", label=\"Strategy's Return\")\n",
    "plt.plot(df_dates[\"NEXT_RETURN\"], \"g-\", label=\"CSI 500 Index's Return\")\n",
    "plt.bar(diff.index, diff, width=10, label=\"Active Return\")\n",
    "plt.legend(loc=\"lower right\")\n",
    "plt.grid(axis=\"y\")\n",
    "plt.ylabel(\"Return(%)\")\n",
    "plt.savefig(\"backtesting.png\")"
   ]
  },
  {
   "cell_type": "markdown",
   "metadata": {},
   "source": [
    "2.2 Noncumulative monthly return"
   ]
  },
  {
   "cell_type": "code",
   "execution_count": 48,
   "metadata": {},
   "outputs": [
    {
     "data": {
      "text/html": [
       "<div>\n",
       "<style scoped>\n",
       "    .dataframe tbody tr th:only-of-type {\n",
       "        vertical-align: middle;\n",
       "    }\n",
       "\n",
       "    .dataframe tbody tr th {\n",
       "        vertical-align: top;\n",
       "    }\n",
       "\n",
       "    .dataframe thead th {\n",
       "        text-align: right;\n",
       "    }\n",
       "</style>\n",
       "<table border=\"1\" class=\"dataframe\">\n",
       "  <thead>\n",
       "    <tr style=\"text-align: right;\">\n",
       "      <th></th>\n",
       "      <th>strategy return</th>\n",
       "    </tr>\n",
       "  </thead>\n",
       "  <tbody>\n",
       "    <tr>\n",
       "      <th>2018-01-31 00:00:00</th>\n",
       "      <td>-4.74539</td>\n",
       "    </tr>\n",
       "    <tr>\n",
       "      <th>2018-02-28 00:00:00</th>\n",
       "      <td>33.2852</td>\n",
       "    </tr>\n",
       "    <tr>\n",
       "      <th>2018-03-30 00:00:00</th>\n",
       "      <td>-4.34367</td>\n",
       "    </tr>\n",
       "    <tr>\n",
       "      <th>2018-04-27 00:00:00</th>\n",
       "      <td>1.93191</td>\n",
       "    </tr>\n",
       "    <tr>\n",
       "      <th>2018-05-31 00:00:00</th>\n",
       "      <td>-12.3262</td>\n",
       "    </tr>\n",
       "    <tr>\n",
       "      <th>2018-06-29 00:00:00</th>\n",
       "      <td>2.82897</td>\n",
       "    </tr>\n",
       "    <tr>\n",
       "      <th>2018-07-31 00:00:00</th>\n",
       "      <td>-7.71601</td>\n",
       "    </tr>\n",
       "    <tr>\n",
       "      <th>2018-08-31 00:00:00</th>\n",
       "      <td>-0.880618</td>\n",
       "    </tr>\n",
       "    <tr>\n",
       "      <th>2018-09-28 00:00:00</th>\n",
       "      <td>-11.5399</td>\n",
       "    </tr>\n",
       "    <tr>\n",
       "      <th>2018-10-31 00:00:00</th>\n",
       "      <td>10.327</td>\n",
       "    </tr>\n",
       "    <tr>\n",
       "      <th>2018-11-30 00:00:00</th>\n",
       "      <td>-2.58421</td>\n",
       "    </tr>\n",
       "    <tr>\n",
       "      <th>2018-12-28 00:00:00</th>\n",
       "      <td>0.598739</td>\n",
       "    </tr>\n",
       "    <tr>\n",
       "      <th>2019-01-31 00:00:00</th>\n",
       "      <td>26.7696</td>\n",
       "    </tr>\n",
       "    <tr>\n",
       "      <th>2019-02-28 00:00:00</th>\n",
       "      <td>9.21462</td>\n",
       "    </tr>\n",
       "    <tr>\n",
       "      <th>2019-03-29 00:00:00</th>\n",
       "      <td>1.56049</td>\n",
       "    </tr>\n",
       "  </tbody>\n",
       "</table>\n",
       "</div>"
      ],
      "text/plain": [
       "                    strategy return\n",
       "2018-01-31 00:00:00        -4.74539\n",
       "2018-02-28 00:00:00         33.2852\n",
       "2018-03-30 00:00:00        -4.34367\n",
       "2018-04-27 00:00:00         1.93191\n",
       "2018-05-31 00:00:00        -12.3262\n",
       "2018-06-29 00:00:00         2.82897\n",
       "2018-07-31 00:00:00        -7.71601\n",
       "2018-08-31 00:00:00       -0.880618\n",
       "2018-09-28 00:00:00        -11.5399\n",
       "2018-10-31 00:00:00          10.327\n",
       "2018-11-30 00:00:00        -2.58421\n",
       "2018-12-28 00:00:00        0.598739\n",
       "2019-01-31 00:00:00         26.7696\n",
       "2019-02-28 00:00:00         9.21462\n",
       "2019-03-29 00:00:00         1.56049"
      ]
     },
     "execution_count": 48,
     "metadata": {},
     "output_type": "execute_result"
    }
   ],
   "source": [
    "test_return"
   ]
  },
  {
   "cell_type": "code",
   "execution_count": 49,
   "metadata": {},
   "outputs": [
    {
     "data": {
      "text/plain": [
       "2018-01-31    -2.676606\n",
       "2018-02-28     1.511721\n",
       "2018-03-30    -4.149885\n",
       "2018-04-27    -1.817255\n",
       "2018-05-31    -9.326834\n",
       "2018-06-29    -0.556708\n",
       "2018-07-31    -7.205884\n",
       "2018-08-31    -0.292742\n",
       "2018-09-28   -11.002015\n",
       "2018-10-31     2.436467\n",
       "2018-11-30    -4.766539\n",
       "2018-12-28     0.202436\n",
       "2019-01-31    20.323781\n",
       "2019-02-28    10.394717\n",
       "2019-03-29     2.581818\n",
       "Name: NEXT_RETURN, dtype: float64"
      ]
     },
     "execution_count": 49,
     "metadata": {},
     "output_type": "execute_result"
    }
   ],
   "source": [
    "df_dates[\"NEXT_RETURN\"]"
   ]
  },
  {
   "cell_type": "code",
   "execution_count": 31,
   "metadata": {},
   "outputs": [],
   "source": [
    "test_return = test_return.rename(index=str, columns={\"NEXT_RETURN\": \"strategy return\"})\n",
    "comp = pd.concat([test_return, df_dates[\"NEXT_RETURN\"]], axis=1, join=\"outer\")\n",
    "comp = comp.rename(index=str, columns={\"NEXT_RETURN\": \"index return\"})\n",
    "comp[\"diff\"] = comp[\"strategy return\"] - comp[\"index return\"]"
   ]
  },
  {
   "cell_type": "code",
   "execution_count": 47,
   "metadata": {},
   "outputs": [
    {
     "data": {
      "text/html": [
       "<div>\n",
       "<style scoped>\n",
       "    .dataframe tbody tr th:only-of-type {\n",
       "        vertical-align: middle;\n",
       "    }\n",
       "\n",
       "    .dataframe tbody tr th {\n",
       "        vertical-align: top;\n",
       "    }\n",
       "\n",
       "    .dataframe thead th {\n",
       "        text-align: right;\n",
       "    }\n",
       "</style>\n",
       "<table border=\"1\" class=\"dataframe\">\n",
       "  <thead>\n",
       "    <tr style=\"text-align: right;\">\n",
       "      <th></th>\n",
       "      <th>strategy return</th>\n",
       "      <th>index return</th>\n",
       "      <th>diff</th>\n",
       "    </tr>\n",
       "  </thead>\n",
       "  <tbody>\n",
       "    <tr>\n",
       "      <th>2018-01-31 00:00:00</th>\n",
       "      <td>-4.74539</td>\n",
       "      <td>-2.676606</td>\n",
       "      <td>-2.06879</td>\n",
       "    </tr>\n",
       "    <tr>\n",
       "      <th>2018-02-28 00:00:00</th>\n",
       "      <td>33.2852</td>\n",
       "      <td>1.511721</td>\n",
       "      <td>31.7735</td>\n",
       "    </tr>\n",
       "    <tr>\n",
       "      <th>2018-03-30 00:00:00</th>\n",
       "      <td>-4.34367</td>\n",
       "      <td>-4.149885</td>\n",
       "      <td>-0.193786</td>\n",
       "    </tr>\n",
       "    <tr>\n",
       "      <th>2018-04-27 00:00:00</th>\n",
       "      <td>1.93191</td>\n",
       "      <td>-1.817255</td>\n",
       "      <td>3.74917</td>\n",
       "    </tr>\n",
       "    <tr>\n",
       "      <th>2018-05-31 00:00:00</th>\n",
       "      <td>-12.3262</td>\n",
       "      <td>-9.326834</td>\n",
       "      <td>-2.99934</td>\n",
       "    </tr>\n",
       "    <tr>\n",
       "      <th>2018-06-29 00:00:00</th>\n",
       "      <td>2.82897</td>\n",
       "      <td>-0.556708</td>\n",
       "      <td>3.38568</td>\n",
       "    </tr>\n",
       "    <tr>\n",
       "      <th>2018-07-31 00:00:00</th>\n",
       "      <td>-7.71601</td>\n",
       "      <td>-7.205884</td>\n",
       "      <td>-0.510125</td>\n",
       "    </tr>\n",
       "    <tr>\n",
       "      <th>2018-08-31 00:00:00</th>\n",
       "      <td>-0.880618</td>\n",
       "      <td>-0.292742</td>\n",
       "      <td>-0.587877</td>\n",
       "    </tr>\n",
       "    <tr>\n",
       "      <th>2018-09-28 00:00:00</th>\n",
       "      <td>-11.5399</td>\n",
       "      <td>-11.002015</td>\n",
       "      <td>-0.537933</td>\n",
       "    </tr>\n",
       "    <tr>\n",
       "      <th>2018-10-31 00:00:00</th>\n",
       "      <td>10.327</td>\n",
       "      <td>2.436467</td>\n",
       "      <td>7.89052</td>\n",
       "    </tr>\n",
       "    <tr>\n",
       "      <th>2018-11-30 00:00:00</th>\n",
       "      <td>-2.58421</td>\n",
       "      <td>-4.766539</td>\n",
       "      <td>2.18233</td>\n",
       "    </tr>\n",
       "    <tr>\n",
       "      <th>2018-12-28 00:00:00</th>\n",
       "      <td>0.598739</td>\n",
       "      <td>0.202436</td>\n",
       "      <td>0.396303</td>\n",
       "    </tr>\n",
       "    <tr>\n",
       "      <th>2019-01-31 00:00:00</th>\n",
       "      <td>26.7696</td>\n",
       "      <td>20.323781</td>\n",
       "      <td>6.44582</td>\n",
       "    </tr>\n",
       "    <tr>\n",
       "      <th>2019-02-28 00:00:00</th>\n",
       "      <td>9.21462</td>\n",
       "      <td>10.394717</td>\n",
       "      <td>-1.1801</td>\n",
       "    </tr>\n",
       "    <tr>\n",
       "      <th>2019-03-29 00:00:00</th>\n",
       "      <td>1.56049</td>\n",
       "      <td>2.581818</td>\n",
       "      <td>-1.02133</td>\n",
       "    </tr>\n",
       "  </tbody>\n",
       "</table>\n",
       "</div>"
      ],
      "text/plain": [
       "                    strategy return  index return      diff\n",
       "2018-01-31 00:00:00        -4.74539     -2.676606  -2.06879\n",
       "2018-02-28 00:00:00         33.2852      1.511721   31.7735\n",
       "2018-03-30 00:00:00        -4.34367     -4.149885 -0.193786\n",
       "2018-04-27 00:00:00         1.93191     -1.817255   3.74917\n",
       "2018-05-31 00:00:00        -12.3262     -9.326834  -2.99934\n",
       "2018-06-29 00:00:00         2.82897     -0.556708   3.38568\n",
       "2018-07-31 00:00:00        -7.71601     -7.205884 -0.510125\n",
       "2018-08-31 00:00:00       -0.880618     -0.292742 -0.587877\n",
       "2018-09-28 00:00:00        -11.5399    -11.002015 -0.537933\n",
       "2018-10-31 00:00:00          10.327      2.436467   7.89052\n",
       "2018-11-30 00:00:00        -2.58421     -4.766539   2.18233\n",
       "2018-12-28 00:00:00        0.598739      0.202436  0.396303\n",
       "2019-01-31 00:00:00         26.7696     20.323781   6.44582\n",
       "2019-02-28 00:00:00         9.21462     10.394717   -1.1801\n",
       "2019-03-29 00:00:00         1.56049      2.581818  -1.02133"
      ]
     },
     "execution_count": 47,
     "metadata": {},
     "output_type": "execute_result"
    }
   ],
   "source": [
    "comp"
   ]
  },
  {
   "cell_type": "code",
   "execution_count": 46,
   "metadata": {},
   "outputs": [
    {
     "data": {
      "image/png": "[encoded data removed]",
      "text/plain": [
       "<Figure size 1152x648 with 1 Axes>"
      ]
     },
     "metadata": {
      "needs_background": "light"
     },
     "output_type": "display_data"
    }
   ],
   "source": [
    "fig, ax = plt.subplots(figsize=(16, 9))\n",
    "plt.plot(comp[\"strategy return\"], \"r-\", label=\"Strategy's Return\")\n",
    "plt.plot(comp[\"index return\"], \"g-\", label=\"CSI 500 Index's Return\")\n",
    "plt.bar(comp.index, comp[\"diff\"], width=0.8, label=\"Active Return\")\n",
    "plt.legend(loc=\"lower right\")\n",
    "plt.grid(axis=\"y\")\n",
    "plt.ylabel(\"Return(%)\")\n",
    "plt.xticks(rotation=45)\n",
    "plt.savefig(\"backtesting_noncumulative.png\")"
   ]
  }
 ],
 "metadata": {
  "kernelspec": {
   "display_name": "Python 3",
   "language": "python",
   "name": "python3"
  },
  "language_info": {
   "codemirror_mode": {
    "name": "ipython",
    "version": 3
   },
   "file_extension": ".py",
   "mimetype": "text/x-python",
   "name": "python",
   "nbconvert_exporter": "python",
   "pygments_lexer": "ipython3",
   "version": "3.7.3"
  }
 },
 "nbformat": 4,
 "nbformat_minor": 2
}
