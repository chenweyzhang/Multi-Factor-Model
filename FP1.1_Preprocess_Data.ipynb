{
 "cells": [
  {
   "cell_type": "markdown",
   "metadata": {},
   "source": [
    "# Preprocess Data"
   ]
  },
  {
   "cell_type": "code",
   "execution_count": 2,
   "metadata": {},
   "outputs": [],
   "source": [
    "%matplotlib inline\n",
    "\n",
    "import matplotlib\n",
    "import matplotlib.pyplot as plt\n",
    "import numpy as np\n",
    "import pandas as pd\n",
    "import tushare as ts\n",
    "from WindPy import *\n",
    "import datetime\n",
    "import time\n",
    "\n",
    "%run final_project.py\n",
    "\n",
    "matplotlib.rcParams[\"figure.figsize\"] = (16, 9)"
   ]
  },
  {
   "cell_type": "code",
   "execution_count": 2,
   "metadata": {},
   "outputs": [
    {
     "name": "stdout",
     "output_type": "stream",
     "text": [
      "Welcome to use Wind Quant API for Python (WindPy)!\n",
      "\n",
      "COPYRIGHT (C) 2017 WIND INFORMATION CO., LTD. ALL RIGHTS RESERVED.\n",
      "IN NO CIRCUMSTANCE SHALL WIND BE RESPONSIBLE FOR ANY DAMAGES OR LOSSES CAUSED BY USING WIND QUANT API FOR Python.\n"
     ]
    },
    {
     "data": {
      "text/plain": [
       ".ErrorCode=0\n",
       ".Data=[OK!]"
      ]
     },
     "execution_count": 2,
     "metadata": {},
     "output_type": "execute_result"
    }
   ],
   "source": [
    "w.start()"
   ]
  },
  {
   "cell_type": "markdown",
   "metadata": {},
   "source": [
    "### 1. Get CSI 500 constituent stocks and weights"
   ]
  },
  {
   "cell_type": "code",
   "execution_count": 3,
   "metadata": {},
   "outputs": [],
   "source": [
    "# get current constituent stocks and weights of CSI 500 Index\n",
    "csi_500_constituent = w.wset(\"indexconstituent\", \"date=2019-04-26;windcode=000905.SH\")\n",
    "csi_500_constituent = pd.DataFrame(csi_500_constituent.Data, index=csi_500_constituent.Fields)\n",
    "csi_500_constituent = csi_500_constituent.T\n",
    "csi_500_constituent = csi_500_constituent.drop(columns=[\"date\"])"
   ]
  },
  {
   "cell_type": "code",
   "execution_count": 4,
   "metadata": {},
   "outputs": [
    {
     "data": {
      "text/html": [
       "<div>\n",
       "<style scoped>\n",
       "    .dataframe tbody tr th:only-of-type {\n",
       "        vertical-align: middle;\n",
       "    }\n",
       "\n",
       "    .dataframe tbody tr th {\n",
       "        vertical-align: top;\n",
       "    }\n",
       "\n",
       "    .dataframe thead th {\n",
       "        text-align: right;\n",
       "    }\n",
       "</style>\n",
       "<table border=\"1\" class=\"dataframe\">\n",
       "  <thead>\n",
       "    <tr style=\"text-align: right;\">\n",
       "      <th></th>\n",
       "      <th>wind_code</th>\n",
       "      <th>sec_name</th>\n",
       "      <th>i_weight</th>\n",
       "    </tr>\n",
       "  </thead>\n",
       "  <tbody>\n",
       "    <tr>\n",
       "      <th>0</th>\n",
       "      <td>000006.SZ</td>\n",
       "      <td>深振业A</td>\n",
       "      <td>0.159</td>\n",
       "    </tr>\n",
       "    <tr>\n",
       "      <th>1</th>\n",
       "      <td>000008.SZ</td>\n",
       "      <td>神州高铁</td>\n",
       "      <td>0.26</td>\n",
       "    </tr>\n",
       "    <tr>\n",
       "      <th>2</th>\n",
       "      <td>000009.SZ</td>\n",
       "      <td>中国宝安</td>\n",
       "      <td>0.36</td>\n",
       "    </tr>\n",
       "    <tr>\n",
       "      <th>3</th>\n",
       "      <td>000012.SZ</td>\n",
       "      <td>南玻A</td>\n",
       "      <td>0.154</td>\n",
       "    </tr>\n",
       "    <tr>\n",
       "      <th>4</th>\n",
       "      <td>000021.SZ</td>\n",
       "      <td>深科技</td>\n",
       "      <td>0.172</td>\n",
       "    </tr>\n",
       "  </tbody>\n",
       "</table>\n",
       "</div>"
      ],
      "text/plain": [
       "   wind_code sec_name i_weight\n",
       "0  000006.SZ     深振业A    0.159\n",
       "1  000008.SZ     神州高铁     0.26\n",
       "2  000009.SZ     中国宝安     0.36\n",
       "3  000012.SZ      南玻A    0.154\n",
       "4  000021.SZ      深科技    0.172"
      ]
     },
     "execution_count": 4,
     "metadata": {},
     "output_type": "execute_result"
    }
   ],
   "source": [
    "csi_500_constituent.head()"
   ]
  },
  {
   "cell_type": "code",
   "execution_count": 5,
   "metadata": {},
   "outputs": [],
   "source": [
    "csi_500_constituent.to_pickle(\"csi_500_constituent_info.gz\")"
   ]
  },
  {
   "cell_type": "markdown",
   "metadata": {},
   "source": [
    "### 2. Get monthly data of 500 constituent stocks from 2015-01-01 to 2019-04-26"
   ]
  },
  {
   "cell_type": "code",
   "execution_count": null,
   "metadata": {},
   "outputs": [],
   "source": [
    "stock_data = pd.DataFrame(columns=[\"WINDCODE\", \"SEC_NAME\", \"INDEXCODE_SW\", \"INDUSTRY_SW\", \n",
    "                                   \"EV\", \"PE_TTM\", \"PB_MRQ\", \"PS_TTM\", \"PCF_OCF_TTM\", \"EV2_TO_EBITDA\", \n",
    "                                   \"ROE\", \"ROIC\", \"PROFITTOGR\", \"YOYPROFIT\", \"YOY_TR\", \"TURN\", \"CLOSE\"])\n",
    "\n",
    "show_time(\"start loop\")\n",
    "\n",
    "for code in csi_500_constituent.wind_code:\n",
    "    apidata = w.wsd(code, \n",
    "              \"windcode,sec_name,indexcode_sw,industry_sw,ev,pe_ttm,pb_mrq,ps_ttm,pcf_ocf_ttm,ev2_to_ebitda,roe,roic,profittogr,yoyprofit,yoy_tr,turn,close\", \n",
    "              \"2015-01-01\", \"2019-4-26\", \n",
    "              \"industryType=1;unit=1;Period=M;Fill=Previous,PriceAdj=F\")\n",
    "    df = apidata_to_df(apidata)\n",
    "    stock_data = pd.concat([stock_data, df], axis=0, join=\"outer\")\n",
    "    \n",
    "show_time(\"end loop\")"
   ]
  },
  {
   "cell_type": "code",
   "execution_count": 7,
   "metadata": {},
   "outputs": [],
   "source": [
    "# convert index into datetime object\n",
    "stock_data[\"date\"] = pd.to_datetime(stock_data.index, format=\"%Y-%m-%d\")\n",
    "stock_data.set_index(\"date\", inplace=True)\n",
    "# save as pickle file for convenience\n",
    "stock_data.to_pickle(\"csi_500_data_raw.gz\")"
   ]
  },
  {
   "cell_type": "markdown",
   "metadata": {},
   "source": [
    "### 3. Preprocess data"
   ]
  },
  {
   "cell_type": "code",
   "execution_count": 3,
   "metadata": {},
   "outputs": [],
   "source": [
    "data = pd.read_pickle(\"csi_500_data_raw.gz\")"
   ]
  },
  {
   "cell_type": "code",
   "execution_count": 4,
   "metadata": {},
   "outputs": [
    {
     "data": {
      "text/html": [
       "<div>\n",
       "<style scoped>\n",
       "    .dataframe tbody tr th:only-of-type {\n",
       "        vertical-align: middle;\n",
       "    }\n",
       "\n",
       "    .dataframe tbody tr th {\n",
       "        vertical-align: top;\n",
       "    }\n",
       "\n",
       "    .dataframe thead th {\n",
       "        text-align: right;\n",
       "    }\n",
       "</style>\n",
       "<table border=\"1\" class=\"dataframe\">\n",
       "  <thead>\n",
       "    <tr style=\"text-align: right;\">\n",
       "      <th></th>\n",
       "      <th>WINDCODE</th>\n",
       "      <th>SEC_NAME</th>\n",
       "      <th>INDEXCODE_SW</th>\n",
       "      <th>INDUSTRY_SW</th>\n",
       "      <th>EV</th>\n",
       "      <th>PE_TTM</th>\n",
       "      <th>PB_MRQ</th>\n",
       "      <th>PS_TTM</th>\n",
       "      <th>PCF_OCF_TTM</th>\n",
       "      <th>EV2_TO_EBITDA</th>\n",
       "      <th>ROE</th>\n",
       "      <th>ROIC</th>\n",
       "      <th>PROFITTOGR</th>\n",
       "      <th>YOYPROFIT</th>\n",
       "      <th>YOY_TR</th>\n",
       "      <th>TURN</th>\n",
       "      <th>CLOSE</th>\n",
       "    </tr>\n",
       "    <tr>\n",
       "      <th>date</th>\n",
       "      <th></th>\n",
       "      <th></th>\n",
       "      <th></th>\n",
       "      <th></th>\n",
       "      <th></th>\n",
       "      <th></th>\n",
       "      <th></th>\n",
       "      <th></th>\n",
       "      <th></th>\n",
       "      <th></th>\n",
       "      <th></th>\n",
       "      <th></th>\n",
       "      <th></th>\n",
       "      <th></th>\n",
       "      <th></th>\n",
       "      <th></th>\n",
       "      <th></th>\n",
       "    </tr>\n",
       "  </thead>\n",
       "  <tbody>\n",
       "    <tr>\n",
       "      <th>2015-01-30</th>\n",
       "      <td>000006.SZ</td>\n",
       "      <td>深振业A</td>\n",
       "      <td>801180.SI</td>\n",
       "      <td>房地产</td>\n",
       "      <td>8.77497e+09</td>\n",
       "      <td>17.4401</td>\n",
       "      <td>2.23957</td>\n",
       "      <td>3.78038</td>\n",
       "      <td>-9.34294</td>\n",
       "      <td>13.0551</td>\n",
       "      <td>None</td>\n",
       "      <td>None</td>\n",
       "      <td>None</td>\n",
       "      <td>None</td>\n",
       "      <td>None</td>\n",
       "      <td>50.8544</td>\n",
       "      <td>6.5</td>\n",
       "    </tr>\n",
       "    <tr>\n",
       "      <th>2015-02-27</th>\n",
       "      <td>000006.SZ</td>\n",
       "      <td>深振业A</td>\n",
       "      <td>801180.SI</td>\n",
       "      <td>房地产</td>\n",
       "      <td>8.86947e+09</td>\n",
       "      <td>17.6279</td>\n",
       "      <td>2.26369</td>\n",
       "      <td>3.82109</td>\n",
       "      <td>-9.44355</td>\n",
       "      <td>13.1681</td>\n",
       "      <td>None</td>\n",
       "      <td>None</td>\n",
       "      <td>None</td>\n",
       "      <td>None</td>\n",
       "      <td>None</td>\n",
       "      <td>16.5637</td>\n",
       "      <td>6.57</td>\n",
       "    </tr>\n",
       "    <tr>\n",
       "      <th>2015-03-31</th>\n",
       "      <td>000006.SZ</td>\n",
       "      <td>深振业A</td>\n",
       "      <td>801180.SI</td>\n",
       "      <td>房地产</td>\n",
       "      <td>1.188e+10</td>\n",
       "      <td>23.6112</td>\n",
       "      <td>3.03204</td>\n",
       "      <td>5.11805</td>\n",
       "      <td>-12.6489</td>\n",
       "      <td>17.7806</td>\n",
       "      <td>4.7603</td>\n",
       "      <td>3.031</td>\n",
       "      <td>15.1535</td>\n",
       "      <td>597.159</td>\n",
       "      <td>428.387</td>\n",
       "      <td>91.6881</td>\n",
       "      <td>8.8</td>\n",
       "    </tr>\n",
       "    <tr>\n",
       "      <th>2015-04-30</th>\n",
       "      <td>000006.SZ</td>\n",
       "      <td>深振业A</td>\n",
       "      <td>801180.SI</td>\n",
       "      <td>房地产</td>\n",
       "      <td>1.57679e+10</td>\n",
       "      <td>23.2246</td>\n",
       "      <td>3.63601</td>\n",
       "      <td>4.56375</td>\n",
       "      <td>-9.02967</td>\n",
       "      <td>22.4337</td>\n",
       "      <td>4.7603</td>\n",
       "      <td>3.031</td>\n",
       "      <td>15.1535</td>\n",
       "      <td>597.159</td>\n",
       "      <td>428.387</td>\n",
       "      <td>124.399</td>\n",
       "      <td>11.68</td>\n",
       "    </tr>\n",
       "    <tr>\n",
       "      <th>2015-05-29</th>\n",
       "      <td>000006.SZ</td>\n",
       "      <td>深振业A</td>\n",
       "      <td>801180.SI</td>\n",
       "      <td>房地产</td>\n",
       "      <td>2.10599e+10</td>\n",
       "      <td>31.0192</td>\n",
       "      <td>4.85632</td>\n",
       "      <td>6.09542</td>\n",
       "      <td>-12.0602</td>\n",
       "      <td>28.7671</td>\n",
       "      <td>4.7603</td>\n",
       "      <td>3.031</td>\n",
       "      <td>15.1535</td>\n",
       "      <td>597.159</td>\n",
       "      <td>428.387</td>\n",
       "      <td>102.965</td>\n",
       "      <td>15.6</td>\n",
       "    </tr>\n",
       "  </tbody>\n",
       "</table>\n",
       "</div>"
      ],
      "text/plain": [
       "             WINDCODE SEC_NAME INDEXCODE_SW INDUSTRY_SW           EV   PE_TTM  \\\n",
       "date                                                                            \n",
       "2015-01-30  000006.SZ     深振业A    801180.SI         房地产  8.77497e+09  17.4401   \n",
       "2015-02-27  000006.SZ     深振业A    801180.SI         房地产  8.86947e+09  17.6279   \n",
       "2015-03-31  000006.SZ     深振业A    801180.SI         房地产    1.188e+10  23.6112   \n",
       "2015-04-30  000006.SZ     深振业A    801180.SI         房地产  1.57679e+10  23.2246   \n",
       "2015-05-29  000006.SZ     深振业A    801180.SI         房地产  2.10599e+10  31.0192   \n",
       "\n",
       "             PB_MRQ   PS_TTM PCF_OCF_TTM EV2_TO_EBITDA     ROE   ROIC  \\\n",
       "date                                                                    \n",
       "2015-01-30  2.23957  3.78038    -9.34294       13.0551    None   None   \n",
       "2015-02-27  2.26369  3.82109    -9.44355       13.1681    None   None   \n",
       "2015-03-31  3.03204  5.11805    -12.6489       17.7806  4.7603  3.031   \n",
       "2015-04-30  3.63601  4.56375    -9.02967       22.4337  4.7603  3.031   \n",
       "2015-05-29  4.85632  6.09542    -12.0602       28.7671  4.7603  3.031   \n",
       "\n",
       "           PROFITTOGR YOYPROFIT   YOY_TR     TURN  CLOSE  \n",
       "date                                                      \n",
       "2015-01-30       None      None     None  50.8544    6.5  \n",
       "2015-02-27       None      None     None  16.5637   6.57  \n",
       "2015-03-31    15.1535   597.159  428.387  91.6881    8.8  \n",
       "2015-04-30    15.1535   597.159  428.387  124.399  11.68  \n",
       "2015-05-29    15.1535   597.159  428.387  102.965   15.6  "
      ]
     },
     "execution_count": 4,
     "metadata": {},
     "output_type": "execute_result"
    }
   ],
   "source": [
    "data.head()"
   ]
  },
  {
   "cell_type": "code",
   "execution_count": 123,
   "metadata": {},
   "outputs": [
    {
     "data": {
      "text/plain": [
       "SEC_NAME         False\n",
       "INDEXCODE_SW     False\n",
       "INDUSTRY_SW      False\n",
       "EV               False\n",
       "PE_TTM           False\n",
       "PB_MRQ           False\n",
       "PS_TTM           False\n",
       "PCF_OCF_TTM      False\n",
       "EV2_TO_EBITDA     True\n",
       "ROE              False\n",
       "ROIC              True\n",
       "PROFITTOGR       False\n",
       "YOYPROFIT        False\n",
       "YOY_TR           False\n",
       "TURN             False\n",
       "CLOSE            False\n",
       "dtype: bool"
      ]
     },
     "execution_count": 123,
     "metadata": {},
     "output_type": "execute_result"
    }
   ],
   "source": [
    "# fill nan with data of the nearest month\n",
    "for code in csi_500_constituent.wind_code:\n",
    "    data[data[\"WINDCODE\"] == code] = data[data[\"WINDCODE\"] == code].fillna(method=\"ffill\", axis=0)\n",
    "    data[data[\"WINDCODE\"] == code] = data[data[\"WINDCODE\"] == code].fillna(method=\"bfill\", axis=0)\n",
    "# check if there're still nans left\n",
    "pd.isnull(full_data).any()"
   ]
  },
  {
   "cell_type": "code",
   "execution_count": 127,
   "metadata": {},
   "outputs": [
    {
     "data": {
      "text/plain": [
       "True"
      ]
     },
     "execution_count": 127,
     "metadata": {},
     "output_type": "execute_result"
    }
   ],
   "source": [
    "# locate nans\n",
    "bools_1 = pd.isnull(data[\"EV2_TO_EBITDA\"])\n",
    "bools_2 = pd.isnull(data[\"ROIC\"])\n",
    "ind_1 = []\n",
    "for i in range(len(bools_1)):\n",
    "    if bools_1[i]:\n",
    "        ind_1.append(i)\n",
    "ind_2 = []\n",
    "for j in range(len(bools_2)):\n",
    "    if bools_2[j]:\n",
    "        ind_2.append(j)\n",
    "ind_1 == ind_2 # nans in EV/EBITDA and ROIC appearing from same companies"
   ]
  },
  {
   "cell_type": "code",
   "execution_count": 128,
   "metadata": {},
   "outputs": [
    {
     "name": "stdout",
     "output_type": "stream",
     "text": [
      "{'非银金融', '银行'}\n"
     ]
    }
   ],
   "source": [
    "# figure out the corresponding industries\n",
    "ind_code = []\n",
    "for ind in ind_1:\n",
    "    ind_code.append(data[\"INDUSTRY_SW\"][ind])\n",
    "print(set(ind_code)) # 10 companies in banking and non-bank financial industries have missing data"
   ]
  },
  {
   "cell_type": "code",
   "execution_count": 143,
   "metadata": {},
   "outputs": [
    {
     "name": "stdout",
     "output_type": "stream",
     "text": [
      "start loading: 2019-04-27 23:16:56:863190\n",
      "end loading: 2019-04-27 23:16:58:359194\n"
     ]
    }
   ],
   "source": [
    "# get related industries' data from Wind to calculate the industries's average EV/EBITDA and ROIC\n",
    "\n",
    "show_time(\"start loading\")\n",
    "\n",
    "industry_mktcap = w.wses(\"1000012612000000,1000012613000000\", \"sec_mkt_cap_today_sum_chn\", \"2015-01-01\", \"2019-04-26\", \"Period=M;Fill=Previous\")\n",
    "industry_ebitdatosales = w.wses(\"1000012612000000,1000012613000000\", \"sec_ebitdatosales_overall_glb\", \"2015-01-01\", \"2019-04-26\", \"Period=M;Fill=Previous\")\n",
    "industry_gr = w.wses(\"1000012612000000,1000012613000000\", \"sec_gr_sum_chn\", \"2015-01-01\", \"2019-04-26\", \"Period=M;Fill=Previous\")\n",
    "industry_roic = w.wses(\"1000012612000000,1000012613000000\", \"sec_roic_avg_glb\", \"2015-01-01\", \"2019-04-26\", \"Period=M;Fill=Previous\")\n",
    "\n",
    "show_time(\"end loading\")"
   ]
  },
  {
   "cell_type": "code",
   "execution_count": 144,
   "metadata": {},
   "outputs": [],
   "source": [
    "# convert the data into dataframe\n",
    "df1 = to_industry_df(industry_mktcap)\n",
    "df2 = to_industry_df(industry_ebitdatosales)\n",
    "df3 = to_industry_df(industry_gr)\n",
    "df4 = to_industry_df(industry_roic)\n",
    "# concat dataframes together\n",
    "industry_data = pd.concat([df1, df2[\"SEC_EBITDATOSALES_OVERALL_GLB\"], df3[\"SEC_GR_SUM_CHN\"], df4[\"SEC_ROIC_AVG_GLB\"]], \n",
    "                          axis=1, join=\"outer\")\n",
    "# convert index into datetime object\n",
    "industry_data[\"date\"] = pd.to_datetime(industry_data.index, format=\"%Y-%m-%d\")\n",
    "industry_data.set_index(\"date\", inplace=True)\n",
    "# fill nan with data of the nearest month\n",
    "industry_data[industry_data[\"INDUSTRY_SW\"] == \"银行\"] = industry_data[industry_data[\"INDUSTRY_SW\"] == \"银行\"].fillna(method=\"ffill\", axis=0)\n",
    "industry_data[industry_data[\"INDUSTRY_SW\"] == \"银行\"] = industry_data[industry_data[\"INDUSTRY_SW\"] == \"银行\"].fillna(method=\"bfill\", axis=0)\n",
    "industry_data[industry_data[\"INDUSTRY_SW\"] == \"非银金融\"] = industry_data[industry_data[\"INDUSTRY_SW\"] == \"非银金融\"].fillna(method=\"ffill\", axis=0)\n",
    "industry_data[industry_data[\"INDUSTRY_SW\"] == \"非银金融\"] = industry_data[industry_data[\"INDUSTRY_SW\"] == \"非银金融\"].fillna(method=\"bfill\", axis=0)"
   ]
  },
  {
   "cell_type": "code",
   "execution_count": 152,
   "metadata": {},
   "outputs": [],
   "source": [
    "# calculate industries' EV/EBITDA \n",
    "industry_data[\"EV2_TO_EBITDA\"] = industry_data[\"SEC_MKT_CAP_TODAY_SUM_CHN\"] / (industry_data[\"SEC_EBITDATOSALES_OVERALL_GLB\"] * industry_data[\"SEC_GR_SUM_CHN\"])\n",
    "# deal with the abnormal values\n",
    "for i in range(len(industry_data)):\n",
    "    if np.isinf(industry_data[\"EV2_TO_EBITDA\"][i]):\n",
    "        industry_data[\"EV2_TO_EBITDA\"][i] = np.nan\n",
    "industry_data[industry_data[\"INDUSTRY_SW\"] == \"银行\"] = industry_data[industry_data[\"INDUSTRY_SW\"] == \"银行\"].fillna(method=\"ffill\", axis=0)\n",
    "industry_data[industry_data[\"INDUSTRY_SW\"] == \"银行\"] = industry_data[industry_data[\"INDUSTRY_SW\"] == \"银行\"].fillna(method=\"bfill\", axis=0)\n",
    "industry_data[industry_data[\"INDUSTRY_SW\"] == \"非银金融\"] = industry_data[industry_data[\"INDUSTRY_SW\"] == \"非银金融\"].fillna(method=\"ffill\", axis=0)\n",
    "industry_data[industry_data[\"INDUSTRY_SW\"] == \"非银金融\"] = industry_data[industry_data[\"INDUSTRY_SW\"] == \"非银金融\"].fillna(method=\"bfill\", axis=0)\n",
    "# drop needless columns\n",
    "industry_data = industry_data.drop(columns=[\"SEC_MKT_CAP_TODAY_SUM_CHN\", \"SEC_EBITDATOSALES_OVERALL_GLB\", \"SEC_GR_SUM_CHN\"])"
   ]
  },
  {
   "cell_type": "code",
   "execution_count": 164,
   "metadata": {},
   "outputs": [],
   "source": [
    "industry_data.to_pickle(\"industry_data.gz\")"
   ]
  },
  {
   "cell_type": "code",
   "execution_count": 168,
   "metadata": {},
   "outputs": [],
   "source": [
    "# fill the nans with industry's average\n",
    "for ind in ind_1: # loop through the nans\n",
    "    if data[\"INDUSTRY_SW\"][ind] == \"银行\": # see which industry it belongs to\n",
    "        date = data.index[ind]\n",
    "        for index, row in industry_data[industry_data[\"INDUSTRY_SW\"] == \"银行\"].iterrows():\n",
    "            if index == date:\n",
    "                data[\"EV2_TO_EBITDA\"][ind] = row[\"EV2_TO_EBITDA\"]\n",
    "                data[\"ROIC\"][ind] = row[\"SEC_ROIC_AVG_GLB\"]\n",
    "    if data[\"INDUSTRY_SW\"][ind] == \"非银金融\":\n",
    "        date = data.index[ind]\n",
    "        for index, row in industry_data[industry_data[\"INDUSTRY_SW\"] == \"非银金融\"].iterrows():\n",
    "            if index == date:\n",
    "                data[\"EV2_TO_EBITDA\"][ind] = row[\"EV2_TO_EBITDA\"]\n",
    "                data[\"ROIC\"][ind] = row[\"SEC_ROIC_AVG_GLB\"]"
   ]
  },
  {
   "cell_type": "code",
   "execution_count": 170,
   "metadata": {},
   "outputs": [
    {
     "data": {
      "text/plain": [
       "WINDCODE         False\n",
       "SEC_NAME         False\n",
       "INDEXCODE_SW     False\n",
       "INDUSTRY_SW      False\n",
       "EV               False\n",
       "PE_TTM           False\n",
       "PB_MRQ           False\n",
       "PS_TTM           False\n",
       "PCF_OCF_TTM      False\n",
       "EV2_TO_EBITDA    False\n",
       "ROE              False\n",
       "ROIC             False\n",
       "PROFITTOGR       False\n",
       "YOYPROFIT        False\n",
       "YOY_TR           False\n",
       "TURN             False\n",
       "CLOSE            False\n",
       "dtype: bool"
      ]
     },
     "execution_count": 170,
     "metadata": {},
     "output_type": "execute_result"
    }
   ],
   "source": [
    "pd.isnull(data).any() # check if there're still nans"
   ]
  },
  {
   "cell_type": "code",
   "execution_count": 173,
   "metadata": {},
   "outputs": [],
   "source": [
    "data.to_pickle(\"csi_500_data_preprocessed.gz\")"
   ]
  }
 ],
 "metadata": {
  "kernelspec": {
   "display_name": "Python 3",
   "language": "python",
   "name": "python3"
  },
  "language_info": {
   "codemirror_mode": {
    "name": "ipython",
    "version": 3
   },
   "file_extension": ".py",
   "mimetype": "text/x-python",
   "name": "python",
   "nbconvert_exporter": "python",
   "pygments_lexer": "ipython3",
   "version": "3.7.3"
  }
 },
 "nbformat": 4,
 "nbformat_minor": 2
}
